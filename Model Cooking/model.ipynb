{
  "cells": [
    {
      "cell_type": "markdown",
      "metadata": {
        "id": "qnaFS1XrSRHG"
      },
      "source": [
        "\n",
        "\n",
        "# Chatbot untuk kaamala resort\n",
        "\n"
      ]
    },
    {
      "cell_type": "code",
      "execution_count": 15,
      "metadata": {
        "colab": {
          "base_uri": "https://localhost:8080/"
        },
        "id": "41rEyg1iSPgo",
        "outputId": "78cf3900-5661-40d8-9aba-d244c15543fa"
      },
      "outputs": [
        {
          "name": "stderr",
          "output_type": "stream",
          "text": [
            "[nltk_data] Downloading package stopwords to\n",
            "[nltk_data]     C:\\Users\\User\\AppData\\Roaming\\nltk_data...\n",
            "[nltk_data]   Package stopwords is already up-to-date!\n"
          ]
        },
        {
          "data": {
            "text/plain": [
              "True"
            ]
          },
          "execution_count": 15,
          "metadata": {},
          "output_type": "execute_result"
        }
      ],
      "source": [
        "import pandas as pd\n",
        "import re\n",
        "import nltk\n",
        "from nltk.corpus import stopwords\n",
        "from nltk.stem import PorterStemmer\n",
        "import spacy\n",
        "import numpy as np\n",
        "\n",
        "nltk.download('stopwords')"
      ]
    },
    {
      "cell_type": "code",
      "execution_count": 16,
      "metadata": {
        "colab": {
          "base_uri": "https://localhost:8080/",
          "height": 206
        },
        "id": "pdBY3UuHXmCB",
        "outputId": "3d5f1115-1470-4a06-dcdb-52239bb99e6f"
      },
      "outputs": [
        {
          "data": {
            "text/html": [
              "<div>\n",
              "<style scoped>\n",
              "    .dataframe tbody tr th:only-of-type {\n",
              "        vertical-align: middle;\n",
              "    }\n",
              "\n",
              "    .dataframe tbody tr th {\n",
              "        vertical-align: top;\n",
              "    }\n",
              "\n",
              "    .dataframe thead th {\n",
              "        text-align: right;\n",
              "    }\n",
              "</style>\n",
              "<table border=\"1\" class=\"dataframe\">\n",
              "  <thead>\n",
              "    <tr style=\"text-align: right;\">\n",
              "      <th></th>\n",
              "      <th>In</th>\n",
              "      <th>Class</th>\n",
              "    </tr>\n",
              "  </thead>\n",
              "  <tbody>\n",
              "    <tr>\n",
              "      <th>0</th>\n",
              "      <td>tell me about kaamala resort</td>\n",
              "      <td>description</td>\n",
              "    </tr>\n",
              "    <tr>\n",
              "      <th>1</th>\n",
              "      <td>can you tell me what is kaamala resort</td>\n",
              "      <td>description</td>\n",
              "    </tr>\n",
              "    <tr>\n",
              "      <th>2</th>\n",
              "      <td>describe kaamala resort</td>\n",
              "      <td>description</td>\n",
              "    </tr>\n",
              "    <tr>\n",
              "      <th>3</th>\n",
              "      <td>what are the facilities at kaamala resort</td>\n",
              "      <td>facilities</td>\n",
              "    </tr>\n",
              "    <tr>\n",
              "      <th>4</th>\n",
              "      <td>what are the resort facilities</td>\n",
              "      <td>facilities</td>\n",
              "    </tr>\n",
              "  </tbody>\n",
              "</table>\n",
              "</div>"
            ],
            "text/plain": [
              "                                          In        Class\n",
              "0               tell me about kaamala resort  description\n",
              "1     can you tell me what is kaamala resort  description\n",
              "2                    describe kaamala resort  description\n",
              "3  what are the facilities at kaamala resort   facilities\n",
              "4            what are the resort facilities    facilities"
            ]
          },
          "execution_count": 16,
          "metadata": {},
          "output_type": "execute_result"
        }
      ],
      "source": [
        "df = pd.read_excel('dataset.xlsx')\n",
        "df.head()"
      ]
    },
    {
      "cell_type": "code",
      "execution_count": 17,
      "metadata": {
        "id": "wNVRH2GPXqBl"
      },
      "outputs": [],
      "source": [
        "def clean_corpus(text):\n",
        "\n",
        "    stop_words = stopwords.words('english')\n",
        "    ps = PorterStemmer()\n",
        "    nlp = spacy.load('en_core_web_sm')\n",
        "\n",
        "    text = text.lower()\n",
        "    text = re.findall(r'[a-z]+', text)\n",
        "\n",
        "    text = [i for i in text if i not in stop_words]\n",
        "\n",
        "    text = nlp(\" \".join(text))\n",
        "    text = [i.lemma_ for i in text]\n",
        "\n",
        "    text = [ps.stem(i) for i in text]\n",
        "\n",
        "    return \" \".join(text)"
      ]
    },
    {
      "cell_type": "code",
      "execution_count": 18,
      "metadata": {
        "id": "I-zNRCTsYCsi"
      },
      "outputs": [],
      "source": [
        "df['In'] = df['In'].apply(clean_corpus)"
      ]
    },
    {
      "cell_type": "code",
      "execution_count": 19,
      "metadata": {
        "id": "Gm1TsZO5YKG6"
      },
      "outputs": [],
      "source": [
        "from tensorflow.keras.preprocessing.text import Tokenizer\n",
        "from tensorflow.keras.preprocessing.sequence import pad_sequences"
      ]
    },
    {
      "cell_type": "code",
      "execution_count": 20,
      "metadata": {
        "id": "zK7_aqK6aH5Y"
      },
      "outputs": [],
      "source": [
        "tokenizer = Tokenizer()\n",
        "tokenizer.fit_on_texts(df['In'])\n",
        "sequences = tokenizer.texts_to_sequences(df['In'])\n",
        "\n",
        "total_words = len(tokenizer.word_index) + 1\n",
        "maxlen = max([len(x) for x in sequences])\n",
        "sequences = pad_sequences(sequences, maxlen=maxlen)"
      ]
    },
    {
      "cell_type": "code",
      "execution_count": 21,
      "metadata": {
        "id": "sDUj-kNLanJr"
      },
      "outputs": [],
      "source": [
        "classi = [i for i in df['Class'].drop_duplicates()]\n",
        "encode = [i for i in range(len(classi))]\n",
        "\n",
        "label_dict = dict(zip(classi, encode))\n",
        "label = df['Class'].replace(label_dict)"
      ]
    },
    {
      "cell_type": "code",
      "execution_count": 22,
      "metadata": {
        "id": "vU-pqt5ebIwC"
      },
      "outputs": [],
      "source": [
        "from tensorflow.keras import layers, Model, Input, optimizers, callbacks"
      ]
    },
    {
      "cell_type": "code",
      "execution_count": 23,
      "metadata": {
        "id": "WWEKiv1Mag74"
      },
      "outputs": [],
      "source": [
        "inputs = Input(shape=(maxlen,))\n",
        "embedding = layers.Embedding(total_words, 100, input_length=maxlen)(inputs)\n",
        "x = layers.Bidirectional(layers.LSTM(128))(embedding)\n",
        "x = layers.Dense(256, activation='relu')(x)\n",
        "x = layers.Dense(len(classi), activation='softmax')(x)\n",
        "\n",
        "model = Model(inputs=inputs, outputs=x)\n",
        "model.compile(loss='sparse_categorical_crossentropy',\n",
        "              optimizer = optimizers.Adam(0.0001),\n",
        "              metrics=['accuracy'])"
      ]
    },
    {
      "cell_type": "code",
      "execution_count": 24,
      "metadata": {
        "id": "ts5_hbVBbTrf"
      },
      "outputs": [],
      "source": [
        "class myCallback(callbacks.Callback):\n",
        "\n",
        "    def on_epoch_end(self, epoch, logs={}):\n",
        "        if logs.get('accuracy') > 0.99:\n",
        "            self.model.stop_training =True"
      ]
    },
    {
      "cell_type": "code",
      "execution_count": 25,
      "metadata": {
        "colab": {
          "base_uri": "https://localhost:8080/"
        },
        "id": "bsVW-xIjbVhx",
        "outputId": "234efa20-98ac-4df9-c091-3fd8694bda27"
      },
      "outputs": [
        {
          "name": "stdout",
          "output_type": "stream",
          "text": [
            "Epoch 1/250\n",
            "1/1 [==============================] - 4s 4s/step - loss: 1.7915 - accuracy: 0.1429\n",
            "Epoch 2/250\n",
            "1/1 [==============================] - 0s 12ms/step - loss: 1.7900 - accuracy: 0.2857\n",
            "Epoch 3/250\n",
            "1/1 [==============================] - 0s 12ms/step - loss: 1.7886 - accuracy: 0.2857\n",
            "Epoch 4/250\n",
            "1/1 [==============================] - 0s 14ms/step - loss: 1.7872 - accuracy: 0.3333\n",
            "Epoch 5/250\n",
            "1/1 [==============================] - 0s 14ms/step - loss: 1.7858 - accuracy: 0.4286\n",
            "Epoch 6/250\n",
            "1/1 [==============================] - 0s 13ms/step - loss: 1.7845 - accuracy: 0.4286\n",
            "Epoch 7/250\n",
            "1/1 [==============================] - 0s 17ms/step - loss: 1.7831 - accuracy: 0.4286\n",
            "Epoch 8/250\n",
            "1/1 [==============================] - 0s 16ms/step - loss: 1.7818 - accuracy: 0.4762\n",
            "Epoch 9/250\n",
            "1/1 [==============================] - 0s 16ms/step - loss: 1.7805 - accuracy: 0.5714\n",
            "Epoch 10/250\n",
            "1/1 [==============================] - 0s 15ms/step - loss: 1.7791 - accuracy: 0.6667\n",
            "Epoch 11/250\n",
            "1/1 [==============================] - 0s 16ms/step - loss: 1.7779 - accuracy: 0.7143\n",
            "Epoch 12/250\n",
            "1/1 [==============================] - 0s 15ms/step - loss: 1.7766 - accuracy: 0.7143\n",
            "Epoch 13/250\n",
            "1/1 [==============================] - 0s 15ms/step - loss: 1.7753 - accuracy: 0.8095\n",
            "Epoch 14/250\n",
            "1/1 [==============================] - 0s 17ms/step - loss: 1.7741 - accuracy: 0.8095\n",
            "Epoch 15/250\n",
            "1/1 [==============================] - 0s 12ms/step - loss: 1.7728 - accuracy: 0.8095\n",
            "Epoch 16/250\n",
            "1/1 [==============================] - 0s 14ms/step - loss: 1.7716 - accuracy: 0.8571\n",
            "Epoch 17/250\n",
            "1/1 [==============================] - 0s 12ms/step - loss: 1.7704 - accuracy: 0.8571\n",
            "Epoch 18/250\n",
            "1/1 [==============================] - 0s 14ms/step - loss: 1.7691 - accuracy: 0.8571\n",
            "Epoch 19/250\n",
            "1/1 [==============================] - 0s 12ms/step - loss: 1.7679 - accuracy: 0.8571\n",
            "Epoch 20/250\n",
            "1/1 [==============================] - 0s 12ms/step - loss: 1.7666 - accuracy: 0.8571\n",
            "Epoch 21/250\n",
            "1/1 [==============================] - 0s 12ms/step - loss: 1.7653 - accuracy: 0.8571\n",
            "Epoch 22/250\n",
            "1/1 [==============================] - 0s 38ms/step - loss: 1.7640 - accuracy: 0.8571\n",
            "Epoch 23/250\n",
            "1/1 [==============================] - 0s 16ms/step - loss: 1.7627 - accuracy: 0.8571\n",
            "Epoch 24/250\n",
            "1/1 [==============================] - 0s 14ms/step - loss: 1.7614 - accuracy: 0.8571\n",
            "Epoch 25/250\n",
            "1/1 [==============================] - 0s 18ms/step - loss: 1.7600 - accuracy: 0.8571\n",
            "Epoch 26/250\n",
            "1/1 [==============================] - 0s 15ms/step - loss: 1.7586 - accuracy: 0.8571\n",
            "Epoch 27/250\n",
            "1/1 [==============================] - 0s 15ms/step - loss: 1.7572 - accuracy: 0.8571\n",
            "Epoch 28/250\n",
            "1/1 [==============================] - 0s 13ms/step - loss: 1.7558 - accuracy: 0.8571\n",
            "Epoch 29/250\n",
            "1/1 [==============================] - 0s 13ms/step - loss: 1.7543 - accuracy: 0.8571\n",
            "Epoch 30/250\n",
            "1/1 [==============================] - 0s 14ms/step - loss: 1.7529 - accuracy: 0.8571\n",
            "Epoch 31/250\n",
            "1/1 [==============================] - 0s 14ms/step - loss: 1.7513 - accuracy: 0.8571\n",
            "Epoch 32/250\n",
            "1/1 [==============================] - 0s 15ms/step - loss: 1.7498 - accuracy: 0.8571\n",
            "Epoch 33/250\n",
            "1/1 [==============================] - 0s 15ms/step - loss: 1.7482 - accuracy: 0.8571\n",
            "Epoch 34/250\n",
            "1/1 [==============================] - 0s 12ms/step - loss: 1.7466 - accuracy: 0.8571\n",
            "Epoch 35/250\n",
            "1/1 [==============================] - 0s 12ms/step - loss: 1.7450 - accuracy: 0.8571\n",
            "Epoch 36/250\n",
            "1/1 [==============================] - 0s 12ms/step - loss: 1.7433 - accuracy: 0.8571\n",
            "Epoch 37/250\n",
            "1/1 [==============================] - 0s 13ms/step - loss: 1.7416 - accuracy: 0.8571\n",
            "Epoch 38/250\n",
            "1/1 [==============================] - 0s 12ms/step - loss: 1.7399 - accuracy: 0.8571\n",
            "Epoch 39/250\n",
            "1/1 [==============================] - 0s 13ms/step - loss: 1.7381 - accuracy: 0.8571\n",
            "Epoch 40/250\n",
            "1/1 [==============================] - 0s 13ms/step - loss: 1.7363 - accuracy: 0.8571\n",
            "Epoch 41/250\n",
            "1/1 [==============================] - 0s 13ms/step - loss: 1.7344 - accuracy: 0.8571\n",
            "Epoch 42/250\n",
            "1/1 [==============================] - 0s 13ms/step - loss: 1.7325 - accuracy: 0.8571\n",
            "Epoch 43/250\n",
            "1/1 [==============================] - 0s 14ms/step - loss: 1.7305 - accuracy: 0.8571\n",
            "Epoch 44/250\n",
            "1/1 [==============================] - 0s 16ms/step - loss: 1.7286 - accuracy: 0.8571\n",
            "Epoch 45/250\n",
            "1/1 [==============================] - 0s 15ms/step - loss: 1.7265 - accuracy: 0.8095\n",
            "Epoch 46/250\n",
            "1/1 [==============================] - 0s 15ms/step - loss: 1.7244 - accuracy: 0.8095\n",
            "Epoch 47/250\n",
            "1/1 [==============================] - 0s 14ms/step - loss: 1.7222 - accuracy: 0.8095\n",
            "Epoch 48/250\n",
            "1/1 [==============================] - 0s 13ms/step - loss: 1.7200 - accuracy: 0.8095\n",
            "Epoch 49/250\n",
            "1/1 [==============================] - 0s 15ms/step - loss: 1.7178 - accuracy: 0.8095\n",
            "Epoch 50/250\n",
            "1/1 [==============================] - 0s 42ms/step - loss: 1.7154 - accuracy: 0.8095\n",
            "Epoch 51/250\n",
            "1/1 [==============================] - 0s 15ms/step - loss: 1.7131 - accuracy: 0.8095\n",
            "Epoch 52/250\n",
            "1/1 [==============================] - 0s 24ms/step - loss: 1.7106 - accuracy: 0.8095\n",
            "Epoch 53/250\n",
            "1/1 [==============================] - 0s 18ms/step - loss: 1.7081 - accuracy: 0.8095\n",
            "Epoch 54/250\n",
            "1/1 [==============================] - 0s 15ms/step - loss: 1.7055 - accuracy: 0.8095\n",
            "Epoch 55/250\n",
            "1/1 [==============================] - 0s 14ms/step - loss: 1.7029 - accuracy: 0.8095\n",
            "Epoch 56/250\n",
            "1/1 [==============================] - 0s 13ms/step - loss: 1.7002 - accuracy: 0.8095\n",
            "Epoch 57/250\n",
            "1/1 [==============================] - 0s 14ms/step - loss: 1.6974 - accuracy: 0.8095\n",
            "Epoch 58/250\n",
            "1/1 [==============================] - 0s 13ms/step - loss: 1.6945 - accuracy: 0.8095\n",
            "Epoch 59/250\n",
            "1/1 [==============================] - 0s 12ms/step - loss: 1.6916 - accuracy: 0.8095\n",
            "Epoch 60/250\n",
            "1/1 [==============================] - 0s 12ms/step - loss: 1.6885 - accuracy: 0.8095\n",
            "Epoch 61/250\n",
            "1/1 [==============================] - 0s 13ms/step - loss: 1.6854 - accuracy: 0.8095\n",
            "Epoch 62/250\n",
            "1/1 [==============================] - 0s 13ms/step - loss: 1.6823 - accuracy: 0.8095\n",
            "Epoch 63/250\n",
            "1/1 [==============================] - 0s 13ms/step - loss: 1.6790 - accuracy: 0.8095\n",
            "Epoch 64/250\n",
            "1/1 [==============================] - 0s 12ms/step - loss: 1.6757 - accuracy: 0.8095\n",
            "Epoch 65/250\n",
            "1/1 [==============================] - 0s 11ms/step - loss: 1.6722 - accuracy: 0.8095\n",
            "Epoch 66/250\n",
            "1/1 [==============================] - 0s 12ms/step - loss: 1.6687 - accuracy: 0.8095\n",
            "Epoch 67/250\n",
            "1/1 [==============================] - 0s 12ms/step - loss: 1.6651 - accuracy: 0.8095\n",
            "Epoch 68/250\n",
            "1/1 [==============================] - 0s 12ms/step - loss: 1.6614 - accuracy: 0.8095\n",
            "Epoch 69/250\n",
            "1/1 [==============================] - 0s 12ms/step - loss: 1.6575 - accuracy: 0.8095\n",
            "Epoch 70/250\n",
            "1/1 [==============================] - 0s 12ms/step - loss: 1.6536 - accuracy: 0.8095\n",
            "Epoch 71/250\n",
            "1/1 [==============================] - 0s 12ms/step - loss: 1.6496 - accuracy: 0.8095\n",
            "Epoch 72/250\n",
            "1/1 [==============================] - 0s 13ms/step - loss: 1.6455 - accuracy: 0.8095\n",
            "Epoch 73/250\n",
            "1/1 [==============================] - 0s 12ms/step - loss: 1.6412 - accuracy: 0.8095\n",
            "Epoch 74/250\n",
            "1/1 [==============================] - 0s 14ms/step - loss: 1.6369 - accuracy: 0.8095\n",
            "Epoch 75/250\n",
            "1/1 [==============================] - 0s 13ms/step - loss: 1.6324 - accuracy: 0.8095\n",
            "Epoch 76/250\n",
            "1/1 [==============================] - 0s 11ms/step - loss: 1.6278 - accuracy: 0.8095\n",
            "Epoch 77/250\n",
            "1/1 [==============================] - 0s 12ms/step - loss: 1.6231 - accuracy: 0.8095\n",
            "Epoch 78/250\n",
            "1/1 [==============================] - 0s 13ms/step - loss: 1.6182 - accuracy: 0.8095\n",
            "Epoch 79/250\n",
            "1/1 [==============================] - 0s 13ms/step - loss: 1.6133 - accuracy: 0.8095\n",
            "Epoch 80/250\n",
            "1/1 [==============================] - 0s 14ms/step - loss: 1.6082 - accuracy: 0.8095\n",
            "Epoch 81/250\n",
            "1/1 [==============================] - 0s 13ms/step - loss: 1.6029 - accuracy: 0.8095\n",
            "Epoch 82/250\n",
            "1/1 [==============================] - 0s 42ms/step - loss: 1.5976 - accuracy: 0.8095\n",
            "Epoch 83/250\n",
            "1/1 [==============================] - 0s 27ms/step - loss: 1.5921 - accuracy: 0.8095\n",
            "Epoch 84/250\n",
            "1/1 [==============================] - 0s 17ms/step - loss: 1.5865 - accuracy: 0.8095\n",
            "Epoch 85/250\n",
            "1/1 [==============================] - 0s 16ms/step - loss: 1.5808 - accuracy: 0.8095\n",
            "Epoch 86/250\n",
            "1/1 [==============================] - 0s 15ms/step - loss: 1.5749 - accuracy: 0.8095\n",
            "Epoch 87/250\n",
            "1/1 [==============================] - 0s 16ms/step - loss: 1.5689 - accuracy: 0.8095\n",
            "Epoch 88/250\n",
            "1/1 [==============================] - 0s 14ms/step - loss: 1.5627 - accuracy: 0.8095\n",
            "Epoch 89/250\n",
            "1/1 [==============================] - 0s 14ms/step - loss: 1.5564 - accuracy: 0.8095\n",
            "Epoch 90/250\n",
            "1/1 [==============================] - 0s 14ms/step - loss: 1.5499 - accuracy: 0.8095\n",
            "Epoch 91/250\n",
            "1/1 [==============================] - 0s 13ms/step - loss: 1.5433 - accuracy: 0.8095\n",
            "Epoch 92/250\n",
            "1/1 [==============================] - 0s 12ms/step - loss: 1.5365 - accuracy: 0.8095\n",
            "Epoch 93/250\n",
            "1/1 [==============================] - 0s 12ms/step - loss: 1.5295 - accuracy: 0.7619\n",
            "Epoch 94/250\n",
            "1/1 [==============================] - 0s 12ms/step - loss: 1.5224 - accuracy: 0.7619\n",
            "Epoch 95/250\n",
            "1/1 [==============================] - 0s 12ms/step - loss: 1.5151 - accuracy: 0.7619\n",
            "Epoch 96/250\n",
            "1/1 [==============================] - 0s 11ms/step - loss: 1.5077 - accuracy: 0.7619\n",
            "Epoch 97/250\n",
            "1/1 [==============================] - 0s 12ms/step - loss: 1.5001 - accuracy: 0.7619\n",
            "Epoch 98/250\n",
            "1/1 [==============================] - 0s 12ms/step - loss: 1.4923 - accuracy: 0.7619\n",
            "Epoch 99/250\n",
            "1/1 [==============================] - 0s 12ms/step - loss: 1.4844 - accuracy: 0.7619\n",
            "Epoch 100/250\n",
            "1/1 [==============================] - 0s 12ms/step - loss: 1.4763 - accuracy: 0.7619\n",
            "Epoch 101/250\n",
            "1/1 [==============================] - 0s 13ms/step - loss: 1.4680 - accuracy: 0.7619\n",
            "Epoch 102/250\n",
            "1/1 [==============================] - 0s 13ms/step - loss: 1.4596 - accuracy: 0.7619\n",
            "Epoch 103/250\n",
            "1/1 [==============================] - 0s 12ms/step - loss: 1.4510 - accuracy: 0.7619\n",
            "Epoch 104/250\n",
            "1/1 [==============================] - 0s 11ms/step - loss: 1.4422 - accuracy: 0.7619\n",
            "Epoch 105/250\n",
            "1/1 [==============================] - 0s 12ms/step - loss: 1.4332 - accuracy: 0.7619\n",
            "Epoch 106/250\n",
            "1/1 [==============================] - 0s 11ms/step - loss: 1.4241 - accuracy: 0.7619\n",
            "Epoch 107/250\n",
            "1/1 [==============================] - 0s 30ms/step - loss: 1.4148 - accuracy: 0.7619\n",
            "Epoch 108/250\n",
            "1/1 [==============================] - 0s 19ms/step - loss: 1.4053 - accuracy: 0.7619\n",
            "Epoch 109/250\n",
            "1/1 [==============================] - 0s 13ms/step - loss: 1.3957 - accuracy: 0.7619\n",
            "Epoch 110/250\n",
            "1/1 [==============================] - 0s 19ms/step - loss: 1.3858 - accuracy: 0.7619\n",
            "Epoch 111/250\n",
            "1/1 [==============================] - 0s 15ms/step - loss: 1.3759 - accuracy: 0.7619\n",
            "Epoch 112/250\n",
            "1/1 [==============================] - 0s 13ms/step - loss: 1.3657 - accuracy: 0.7619\n",
            "Epoch 113/250\n",
            "1/1 [==============================] - 0s 11ms/step - loss: 1.3554 - accuracy: 0.7619\n",
            "Epoch 114/250\n",
            "1/1 [==============================] - 0s 11ms/step - loss: 1.3449 - accuracy: 0.7619\n",
            "Epoch 115/250\n",
            "1/1 [==============================] - 0s 11ms/step - loss: 1.3342 - accuracy: 0.7619\n",
            "Epoch 116/250\n",
            "1/1 [==============================] - 0s 10ms/step - loss: 1.3234 - accuracy: 0.7619\n",
            "Epoch 117/250\n",
            "1/1 [==============================] - 0s 11ms/step - loss: 1.3124 - accuracy: 0.8095\n",
            "Epoch 118/250\n",
            "1/1 [==============================] - 0s 14ms/step - loss: 1.3012 - accuracy: 0.8095\n",
            "Epoch 119/250\n",
            "1/1 [==============================] - 0s 12ms/step - loss: 1.2899 - accuracy: 0.8095\n",
            "Epoch 120/250\n",
            "1/1 [==============================] - 0s 11ms/step - loss: 1.2784 - accuracy: 0.8095\n",
            "Epoch 121/250\n",
            "1/1 [==============================] - 0s 12ms/step - loss: 1.2667 - accuracy: 0.8095\n",
            "Epoch 122/250\n",
            "1/1 [==============================] - 0s 11ms/step - loss: 1.2549 - accuracy: 0.8095\n",
            "Epoch 123/250\n",
            "1/1 [==============================] - 0s 13ms/step - loss: 1.2429 - accuracy: 0.8095\n",
            "Epoch 124/250\n",
            "1/1 [==============================] - 0s 17ms/step - loss: 1.2308 - accuracy: 0.8095\n",
            "Epoch 125/250\n",
            "1/1 [==============================] - 0s 15ms/step - loss: 1.2185 - accuracy: 0.8571\n",
            "Epoch 126/250\n",
            "1/1 [==============================] - 0s 17ms/step - loss: 1.2061 - accuracy: 0.8571\n",
            "Epoch 127/250\n",
            "1/1 [==============================] - 0s 15ms/step - loss: 1.1935 - accuracy: 0.8571\n",
            "Epoch 128/250\n",
            "1/1 [==============================] - 0s 17ms/step - loss: 1.1808 - accuracy: 0.8571\n",
            "Epoch 129/250\n",
            "1/1 [==============================] - 0s 32ms/step - loss: 1.1680 - accuracy: 0.8571\n",
            "Epoch 130/250\n",
            "1/1 [==============================] - 0s 21ms/step - loss: 1.1550 - accuracy: 0.8571\n",
            "Epoch 131/250\n",
            "1/1 [==============================] - 0s 11ms/step - loss: 1.1419 - accuracy: 0.8571\n",
            "Epoch 132/250\n",
            "1/1 [==============================] - 0s 19ms/step - loss: 1.1287 - accuracy: 0.8571\n",
            "Epoch 133/250\n",
            "1/1 [==============================] - 0s 13ms/step - loss: 1.1154 - accuracy: 0.8571\n",
            "Epoch 134/250\n",
            "1/1 [==============================] - 0s 12ms/step - loss: 1.1020 - accuracy: 0.8571\n",
            "Epoch 135/250\n",
            "1/1 [==============================] - 0s 12ms/step - loss: 1.0884 - accuracy: 0.8571\n",
            "Epoch 136/250\n",
            "1/1 [==============================] - 0s 12ms/step - loss: 1.0748 - accuracy: 0.8571\n",
            "Epoch 137/250\n",
            "1/1 [==============================] - 0s 12ms/step - loss: 1.0610 - accuracy: 0.8571\n",
            "Epoch 138/250\n",
            "1/1 [==============================] - 0s 12ms/step - loss: 1.0472 - accuracy: 0.8571\n",
            "Epoch 139/250\n",
            "1/1 [==============================] - 0s 21ms/step - loss: 1.0333 - accuracy: 0.8571\n",
            "Epoch 140/250\n",
            "1/1 [==============================] - 0s 13ms/step - loss: 1.0194 - accuracy: 0.8571\n",
            "Epoch 141/250\n",
            "1/1 [==============================] - 0s 12ms/step - loss: 1.0054 - accuracy: 0.8571\n",
            "Epoch 142/250\n",
            "1/1 [==============================] - 0s 11ms/step - loss: 0.9914 - accuracy: 0.8571\n",
            "Epoch 143/250\n",
            "1/1 [==============================] - 0s 12ms/step - loss: 0.9773 - accuracy: 0.8571\n",
            "Epoch 144/250\n",
            "1/1 [==============================] - 0s 13ms/step - loss: 0.9633 - accuracy: 0.8571\n",
            "Epoch 145/250\n",
            "1/1 [==============================] - 0s 14ms/step - loss: 0.9491 - accuracy: 0.8571\n",
            "Epoch 146/250\n",
            "1/1 [==============================] - 0s 13ms/step - loss: 0.9350 - accuracy: 0.8571\n",
            "Epoch 147/250\n",
            "1/1 [==============================] - 0s 14ms/step - loss: 0.9209 - accuracy: 0.8571\n",
            "Epoch 148/250\n",
            "1/1 [==============================] - 0s 12ms/step - loss: 0.9068 - accuracy: 0.8571\n",
            "Epoch 149/250\n",
            "1/1 [==============================] - 0s 12ms/step - loss: 0.8927 - accuracy: 0.8571\n",
            "Epoch 150/250\n",
            "1/1 [==============================] - 0s 12ms/step - loss: 0.8786 - accuracy: 0.8571\n",
            "Epoch 151/250\n",
            "1/1 [==============================] - 0s 12ms/step - loss: 0.8645 - accuracy: 0.8571\n",
            "Epoch 152/250\n",
            "1/1 [==============================] - 0s 11ms/step - loss: 0.8504 - accuracy: 0.8571\n",
            "Epoch 153/250\n",
            "1/1 [==============================] - 0s 12ms/step - loss: 0.8364 - accuracy: 0.8571\n",
            "Epoch 154/250\n",
            "1/1 [==============================] - 0s 30ms/step - loss: 0.8224 - accuracy: 0.8571\n",
            "Epoch 155/250\n",
            "1/1 [==============================] - 0s 20ms/step - loss: 0.8085 - accuracy: 0.8571\n",
            "Epoch 156/250\n",
            "1/1 [==============================] - 0s 13ms/step - loss: 0.7946 - accuracy: 0.8571\n",
            "Epoch 157/250\n",
            "1/1 [==============================] - 0s 17ms/step - loss: 0.7807 - accuracy: 0.8571\n",
            "Epoch 158/250\n",
            "1/1 [==============================] - 0s 12ms/step - loss: 0.7669 - accuracy: 0.8571\n",
            "Epoch 159/250\n",
            "1/1 [==============================] - 0s 13ms/step - loss: 0.7531 - accuracy: 0.8571\n",
            "Epoch 160/250\n",
            "1/1 [==============================] - 0s 12ms/step - loss: 0.7393 - accuracy: 0.8571\n",
            "Epoch 161/250\n",
            "1/1 [==============================] - 0s 13ms/step - loss: 0.7257 - accuracy: 0.8571\n",
            "Epoch 162/250\n",
            "1/1 [==============================] - 0s 12ms/step - loss: 0.7120 - accuracy: 0.8571\n",
            "Epoch 163/250\n",
            "1/1 [==============================] - 0s 12ms/step - loss: 0.6985 - accuracy: 0.8571\n",
            "Epoch 164/250\n",
            "1/1 [==============================] - 0s 11ms/step - loss: 0.6850 - accuracy: 0.8571\n",
            "Epoch 165/250\n",
            "1/1 [==============================] - 0s 11ms/step - loss: 0.6715 - accuracy: 0.8571\n",
            "Epoch 166/250\n",
            "1/1 [==============================] - 0s 11ms/step - loss: 0.6581 - accuracy: 0.9048\n",
            "Epoch 167/250\n",
            "1/1 [==============================] - 0s 12ms/step - loss: 0.6449 - accuracy: 0.9048\n",
            "Epoch 168/250\n",
            "1/1 [==============================] - 0s 12ms/step - loss: 0.6316 - accuracy: 0.9048\n",
            "Epoch 169/250\n",
            "1/1 [==============================] - 0s 14ms/step - loss: 0.6185 - accuracy: 0.9048\n",
            "Epoch 170/250\n",
            "1/1 [==============================] - 0s 13ms/step - loss: 0.6054 - accuracy: 0.9048\n",
            "Epoch 171/250\n",
            "1/1 [==============================] - 0s 14ms/step - loss: 0.5923 - accuracy: 0.9048\n",
            "Epoch 172/250\n",
            "1/1 [==============================] - 0s 14ms/step - loss: 0.5794 - accuracy: 0.9048\n",
            "Epoch 173/250\n",
            "1/1 [==============================] - 0s 14ms/step - loss: 0.5666 - accuracy: 0.9048\n",
            "Epoch 174/250\n",
            "1/1 [==============================] - 0s 13ms/step - loss: 0.5539 - accuracy: 0.9048\n",
            "Epoch 175/250\n",
            "1/1 [==============================] - 0s 14ms/step - loss: 0.5412 - accuracy: 0.9048\n",
            "Epoch 176/250\n",
            "1/1 [==============================] - 0s 13ms/step - loss: 0.5286 - accuracy: 1.0000\n"
          ]
        }
      ],
      "source": [
        "callback = myCallback()\n",
        "history = model.fit(sequences, label,\n",
        "                    epochs=250,\n",
        "                    callbacks=callback)"
      ]
    },
    {
      "cell_type": "code",
      "execution_count": 26,
      "metadata": {
        "colab": {
          "base_uri": "https://localhost:8080/"
        },
        "id": "aw1t-xHkbc12",
        "outputId": "09530c59-c722-4e77-e410-79f57eb6ad00"
      },
      "outputs": [],
      "source": [
        "model.save('chatbot_kaamala.h5')"
      ]
    },
    {
      "cell_type": "code",
      "execution_count": 27,
      "metadata": {
        "colab": {
          "base_uri": "https://localhost:8080/"
        },
        "id": "BC8ZCZ_V4wm0",
        "outputId": "e4e7cc90-d638-48cd-ff0b-49d5bc248f64"
      },
      "outputs": [
        {
          "name": "stdout",
          "output_type": "stream",
          "text": [
            "1/1 [==============================] - 1s 666ms/step\n"
          ]
        },
        {
          "data": {
            "text/plain": [
              "1"
            ]
          },
          "execution_count": 27,
          "metadata": {},
          "output_type": "execute_result"
        }
      ],
      "source": [
        "text = 'what are the facilities at kaamala resort'\n",
        "text = clean_corpus(text)\n",
        "text = tokenizer.texts_to_sequences([text])\n",
        "text = np.array(text).reshape(-1)\n",
        "text = pad_sequences([text], maxlen=maxlen)\n",
        "\n",
        "predict = model.predict(text)\n",
        "predict = predict.argmax()\n",
        "\n",
        "predict"
      ]
    },
    {
      "cell_type": "code",
      "execution_count": 32,
      "metadata": {
        "id": "86F4Q50Y5VT4"
      },
      "outputs": [],
      "source": [
        "from pickle import dump, load"
      ]
    },
    {
      "cell_type": "code",
      "execution_count": 37,
      "metadata": {},
      "outputs": [],
      "source": [
        "dump(tokenizer, open('tokenizer.pkl', 'wb'))\n",
        "tok = load(open('tokenizer.pkl', 'rb'))"
      ]
    },
    {
      "cell_type": "code",
      "execution_count": 40,
      "metadata": {},
      "outputs": [
        {
          "data": {
            "text/plain": [
              "5"
            ]
          },
          "execution_count": 40,
          "metadata": {},
          "output_type": "execute_result"
        }
      ],
      "source": [
        "maxlen"
      ]
    },
    {
      "cell_type": "code",
      "execution_count": null,
      "metadata": {},
      "outputs": [],
      "source": []
    }
  ],
  "metadata": {
    "colab": {
      "provenance": []
    },
    "kernelspec": {
      "display_name": "Python 3 (ipykernel)",
      "language": "python",
      "name": "python3"
    },
    "language_info": {
      "codemirror_mode": {
        "name": "ipython",
        "version": 3
      },
      "file_extension": ".py",
      "mimetype": "text/x-python",
      "name": "python",
      "nbconvert_exporter": "python",
      "pygments_lexer": "ipython3",
      "version": "3.8.4"
    }
  },
  "nbformat": 4,
  "nbformat_minor": 0
}
